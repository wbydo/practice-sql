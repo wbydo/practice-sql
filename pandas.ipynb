{
 "cells": [
  {
   "cell_type": "code",
   "execution_count": 31,
   "metadata": {},
   "outputs": [],
   "source": [
    "import pymysql\n",
    "import pandas as pd\n",
    "from IPython.display import clear_output\n",
    "\n",
    "pd.options.display.max_rows = 10"
   ]
  },
  {
   "cell_type": "markdown",
   "metadata": {},
   "source": [
    "# SQL練習問題回答\n",
    "[SQL練習問題 | TECH Projin][url]\n",
    "\n",
    "[url]:http://tech.pjin.jp/blog/2016/12/05/sql%E7%B7%B4%E7%BF%92%E5%95%8F%E9%A1%8C-%E4%B8%80%E8%A6%A7%E3%81%BE%E3%81%A8%E3%82%81/\n",
    "\n",
    "## pandasで全部やるバージョン"
   ]
  },
  {
   "cell_type": "code",
   "execution_count": 30,
   "metadata": {},
   "outputs": [],
   "source": [
    "connect = pymysql.connect(\n",
    "    user='wcup2014',\n",
    "    passwd='wcup2014',\n",
    "    db='wcup2014',\n",
    "    charset='utf8mb4'\n",
    ")    \n",
    "\n",
    "tables = pd.read_sql_query(\n",
    "    \"show tables\",connect)\n",
    "\n",
    "countries = pd.read_sql_query(\n",
    "    'select * from countries;',\n",
    "    conn\n",
    ")\n",
    "\n",
    "goals = pd.read_sql_query(\n",
    "    'select * from goals;',\n",
    "    conn\n",
    ")\n",
    "\n",
    "pairings = pd.read_sql_query(\n",
    "    'select * from pairings;',\n",
    "    conn\n",
    ")\n",
    "\n",
    "players = pd.read_sql_query(\n",
    "    'select * from players;',\n",
    "    conn\n",
    ")"
   ]
  },
  {
   "cell_type": "markdown",
   "metadata": {},
   "source": [
    "## 1. [各グループの中でFIFAランクが最も高い国と低い国のランキング番号を表示してください。](http://tech.pjin.jp/blog/2016/04/30/sql%E7%B7%B4%E7%BF%92%E5%95%8F%E9%A1%8C-%E5%95%8F1/)"
   ]
  },
  {
   "cell_type": "code",
   "execution_count": 100,
   "metadata": {},
   "outputs": [
    {
     "data": {
      "text/html": [
       "<div>\n",
       "<style scoped>\n",
       "    .dataframe tbody tr th:only-of-type {\n",
       "        vertical-align: middle;\n",
       "    }\n",
       "\n",
       "    .dataframe tbody tr th {\n",
       "        vertical-align: top;\n",
       "    }\n",
       "\n",
       "    .dataframe thead th {\n",
       "        text-align: right;\n",
       "    }\n",
       "</style>\n",
       "<table border=\"1\" class=\"dataframe\">\n",
       "  <thead>\n",
       "    <tr style=\"text-align: right;\">\n",
       "      <th></th>\n",
       "      <th>group_name</th>\n",
       "      <th>max</th>\n",
       "      <th>min</th>\n",
       "    </tr>\n",
       "  </thead>\n",
       "  <tbody>\n",
       "    <tr>\n",
       "      <th>0</th>\n",
       "      <td>A</td>\n",
       "      <td>56</td>\n",
       "      <td>3</td>\n",
       "    </tr>\n",
       "    <tr>\n",
       "      <th>1</th>\n",
       "      <td>B</td>\n",
       "      <td>62</td>\n",
       "      <td>1</td>\n",
       "    </tr>\n",
       "    <tr>\n",
       "      <th>2</th>\n",
       "      <td>C</td>\n",
       "      <td>46</td>\n",
       "      <td>8</td>\n",
       "    </tr>\n",
       "    <tr>\n",
       "      <th>3</th>\n",
       "      <td>D</td>\n",
       "      <td>28</td>\n",
       "      <td>7</td>\n",
       "    </tr>\n",
       "    <tr>\n",
       "      <th>4</th>\n",
       "      <td>E</td>\n",
       "      <td>33</td>\n",
       "      <td>6</td>\n",
       "    </tr>\n",
       "    <tr>\n",
       "      <th>5</th>\n",
       "      <td>F</td>\n",
       "      <td>44</td>\n",
       "      <td>5</td>\n",
       "    </tr>\n",
       "    <tr>\n",
       "      <th>6</th>\n",
       "      <td>G</td>\n",
       "      <td>37</td>\n",
       "      <td>2</td>\n",
       "    </tr>\n",
       "    <tr>\n",
       "      <th>7</th>\n",
       "      <td>H</td>\n",
       "      <td>57</td>\n",
       "      <td>11</td>\n",
       "    </tr>\n",
       "  </tbody>\n",
       "</table>\n",
       "</div>"
      ],
      "text/plain": [
       "  group_name  max  min\n",
       "0          A   56    3\n",
       "1          B   62    1\n",
       "2          C   46    8\n",
       "3          D   28    7\n",
       "4          E   33    6\n",
       "5          F   44    5\n",
       "6          G   37    2\n",
       "7          H   57   11"
      ]
     },
     "execution_count": 100,
     "metadata": {},
     "output_type": "execute_result"
    }
   ],
   "source": [
    "countries.groupby('group_name')['ranking'].agg([max, min]).reset_index()"
   ]
  },
  {
   "cell_type": "markdown",
   "metadata": {},
   "source": [
    "## 2. [全ゴールキーパーの平均身長、平均体重を表示してください。](http://tech.pjin.jp/blog/2016/04/30/sql%E7%B7%B4%E7%BF%92%E5%95%8F%E9%A1%8C-%E5%95%8F2/)"
   ]
  },
  {
   "cell_type": "code",
   "execution_count": 107,
   "metadata": {
    "scrolled": false
   },
   "outputs": [
    {
     "data": {
      "text/plain": [
       "height    187.625000\n",
       "weight     82.885417\n",
       "dtype: float64"
      ]
     },
     "execution_count": 107,
     "metadata": {},
     "output_type": "execute_result"
    }
   ],
   "source": [
    "players[players['position'] == 'GK'][['height','weight']].mean()"
   ]
  },
  {
   "cell_type": "markdown",
   "metadata": {},
   "source": [
    "## 3. [各国の平均身長を高い方から順に表示してください。ただし、FROM句はcountriesテーブルとしてください。](http://tech.pjin.jp/blog/2016/04/30/sql%E7%B7%B4%E7%BF%92%E5%95%8F%E9%A1%8C-%E5%95%8F3/)"
   ]
  },
  {
   "cell_type": "code",
   "execution_count": 132,
   "metadata": {
    "scrolled": false
   },
   "outputs": [
    {
     "data": {
      "text/plain": [
       "country\n",
       "ドイツ             185.739130\n",
       "ベルギー            185.173913\n",
       "ボスニア・ヘルツェゴビナ    184.913043\n",
       "ギリシャ            184.608696\n",
       "韓国              183.826087\n",
       "                   ...    \n",
       "ホンジュラス          179.826087\n",
       "エクアドル           178.826087\n",
       "日本              178.521739\n",
       "メキシコ            177.521739\n",
       "チリ              176.217391\n",
       "Name: height, Length: 32, dtype: float64"
      ]
     },
     "execution_count": 132,
     "metadata": {},
     "output_type": "execute_result"
    }
   ],
   "source": [
    "pd.merge(\n",
    "    players,\n",
    "    countries.rename({'id':'country_id'}, axis=1),\n",
    "    on='country_id',\n",
    "    how='left',\n",
    ").rename(\n",
    "    {'name_y':'country'}, \n",
    "    axis=1,\n",
    ")[\n",
    "    ['country','height']\n",
    "].groupby('country')['height'].mean().sort_values(ascending=False)"
   ]
  },
  {
   "cell_type": "markdown",
   "metadata": {},
   "source": [
    "## 4. [各国の平均身長を高い方から順に表示してください。ただし、FROM句はplayersテーブルとして、テーブル結合を使わず副問合せを用いてください。](http://tech.pjin.jp/blog/2016/04/30/sql%E7%B7%B4%E7%BF%92%E5%95%8F%E9%A1%8C-%E5%95%8F4/)"
   ]
  },
  {
   "cell_type": "code",
   "execution_count": 158,
   "metadata": {
    "scrolled": false
   },
   "outputs": [
    {
     "data": {
      "text/plain": [
       "country_name\n",
       "ドイツ             185.739130\n",
       "ベルギー            185.173913\n",
       "ボスニア・ヘルツェゴビナ    184.913043\n",
       "ギリシャ            184.608696\n",
       "韓国              183.826087\n",
       "                   ...    \n",
       "ホンジュラス          179.826087\n",
       "エクアドル           178.826087\n",
       "日本              178.521739\n",
       "メキシコ            177.521739\n",
       "チリ              176.217391\n",
       "Name: height, Length: 32, dtype: float64"
      ]
     },
     "execution_count": 158,
     "metadata": {},
     "output_type": "execute_result"
    }
   ],
   "source": [
    "players.assign(\n",
    "    country_name=(lambda df: df['country_id'].map(\n",
    "        lambda i: countries[countries['id'] == i]['name'].values[0]\n",
    "    ))\n",
    ").groupby('country_name')['height'].mean().sort_values(ascending=False)"
   ]
  },
  {
   "cell_type": "markdown",
   "metadata": {},
   "source": [
    "## 5. [キックオフ日時と対戦国の国名をキックオフ日時の早いものから順に表示してください。](http://tech.pjin.jp/blog/2016/05/12/sql%E7%B7%B4%E7%BF%92%E5%95%8F%E9%A1%8C-%E5%95%8F5/)"
   ]
  },
  {
   "cell_type": "code",
   "execution_count": 185,
   "metadata": {
    "scrolled": false
   },
   "outputs": [
    {
     "data": {
      "text/html": [
       "<div>\n",
       "<style scoped>\n",
       "    .dataframe tbody tr th:only-of-type {\n",
       "        vertical-align: middle;\n",
       "    }\n",
       "\n",
       "    .dataframe tbody tr th {\n",
       "        vertical-align: top;\n",
       "    }\n",
       "\n",
       "    .dataframe thead th {\n",
       "        text-align: right;\n",
       "    }\n",
       "</style>\n",
       "<table border=\"1\" class=\"dataframe\">\n",
       "  <thead>\n",
       "    <tr style=\"text-align: right;\">\n",
       "      <th></th>\n",
       "      <th>kickoff</th>\n",
       "      <th>own</th>\n",
       "      <th>enemy</th>\n",
       "    </tr>\n",
       "  </thead>\n",
       "  <tbody>\n",
       "    <tr>\n",
       "      <th>0</th>\n",
       "      <td>2014-06-13 05:00:00</td>\n",
       "      <td>ブラジル</td>\n",
       "      <td>クロアチア</td>\n",
       "    </tr>\n",
       "    <tr>\n",
       "      <th>64</th>\n",
       "      <td>2014-06-13 05:00:00</td>\n",
       "      <td>クロアチア</td>\n",
       "      <td>ブラジル</td>\n",
       "    </tr>\n",
       "    <tr>\n",
       "      <th>1</th>\n",
       "      <td>2014-06-14 01:00:00</td>\n",
       "      <td>メキシコ</td>\n",
       "      <td>カメルーン</td>\n",
       "    </tr>\n",
       "    <tr>\n",
       "      <th>65</th>\n",
       "      <td>2014-06-14 01:00:00</td>\n",
       "      <td>カメルーン</td>\n",
       "      <td>メキシコ</td>\n",
       "    </tr>\n",
       "    <tr>\n",
       "      <th>2</th>\n",
       "      <td>2014-06-14 04:00:00</td>\n",
       "      <td>スペイン</td>\n",
       "      <td>オランダ</td>\n",
       "    </tr>\n",
       "    <tr>\n",
       "      <th>...</th>\n",
       "      <td>...</td>\n",
       "      <td>...</td>\n",
       "      <td>...</td>\n",
       "    </tr>\n",
       "    <tr>\n",
       "      <th>126</th>\n",
       "      <td>2014-07-13 05:00:00</td>\n",
       "      <td>ブラジル</td>\n",
       "      <td>オランダ</td>\n",
       "    </tr>\n",
       "    <tr>\n",
       "      <th>142</th>\n",
       "      <td>2014-07-13 05:00:00</td>\n",
       "      <td>オランダ</td>\n",
       "      <td>ブラジル</td>\n",
       "    </tr>\n",
       "    <tr>\n",
       "      <th>63</th>\n",
       "      <td>2014-07-14 04:00:00</td>\n",
       "      <td>アルゼンチン</td>\n",
       "      <td>ドイツ</td>\n",
       "    </tr>\n",
       "    <tr>\n",
       "      <th>127</th>\n",
       "      <td>2014-07-14 04:00:00</td>\n",
       "      <td>ドイツ</td>\n",
       "      <td>アルゼンチン</td>\n",
       "    </tr>\n",
       "    <tr>\n",
       "      <th>143</th>\n",
       "      <td>2014-07-14 04:00:00</td>\n",
       "      <td>アルゼンチン</td>\n",
       "      <td>ドイツ</td>\n",
       "    </tr>\n",
       "  </tbody>\n",
       "</table>\n",
       "<p>144 rows × 3 columns</p>\n",
       "</div>"
      ],
      "text/plain": [
       "                kickoff     own   enemy\n",
       "0   2014-06-13 05:00:00    ブラジル   クロアチア\n",
       "64  2014-06-13 05:00:00   クロアチア    ブラジル\n",
       "1   2014-06-14 01:00:00    メキシコ   カメルーン\n",
       "65  2014-06-14 01:00:00   カメルーン    メキシコ\n",
       "2   2014-06-14 04:00:00    スペイン    オランダ\n",
       "..                  ...     ...     ...\n",
       "126 2014-07-13 05:00:00    ブラジル    オランダ\n",
       "142 2014-07-13 05:00:00    オランダ    ブラジル\n",
       "63  2014-07-14 04:00:00  アルゼンチン     ドイツ\n",
       "127 2014-07-14 04:00:00     ドイツ  アルゼンチン\n",
       "143 2014-07-14 04:00:00  アルゼンチン     ドイツ\n",
       "\n",
       "[144 rows x 3 columns]"
      ]
     },
     "execution_count": 185,
     "metadata": {},
     "output_type": "execute_result"
    }
   ],
   "source": [
    "pairings.pipe(\n",
    "    lambda df: pd.merge(\n",
    "        df,\n",
    "        countries.rename({'id':'my_country_id'}, axis=1),\n",
    "        on='my_country_id',\n",
    "        how='left',\n",
    "    )\n",
    ").pipe(\n",
    "    lambda df:pd.merge(\n",
    "        df,\n",
    "        countries.rename({'id':'enemy_country_id'}, axis=1),\n",
    "        on='enemy_country_id',\n",
    "        how='left'\n",
    "    )\n",
    ")[['kickoff', 'name_x', 'name_y']].rename(\n",
    "    {'name_x':'own', 'name_y':'enemy'},\n",
    "    axis=1\n",
    ").sort_values('kickoff')"
   ]
  },
  {
   "cell_type": "code",
   "execution_count": null,
   "metadata": {},
   "outputs": [],
   "source": []
  }
 ],
 "metadata": {
  "kernelspec": {
   "display_name": "Python 3",
   "language": "python",
   "name": "python3"
  },
  "language_info": {
   "codemirror_mode": {
    "name": "ipython",
    "version": 3
   },
   "file_extension": ".py",
   "mimetype": "text/x-python",
   "name": "python",
   "nbconvert_exporter": "python",
   "pygments_lexer": "ipython3",
   "version": "3.6.2"
  }
 },
 "nbformat": 4,
 "nbformat_minor": 2
}
